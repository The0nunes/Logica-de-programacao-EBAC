{
  "nbformat": 4,
  "nbformat_minor": 0,
  "metadata": {
    "colab": {
      "provenance": []
    },
    "kernelspec": {
      "name": "python3",
      "display_name": "Python 3"
    },
    "language_info": {
      "name": "python"
    }
  },
  "cells": [
    {
      "cell_type": "markdown",
      "source": [
        "- comentarios em python é o: '#'\n",
        "- operadores artiméticos e relacionais: +, -, *, /, //, %, **, <, >, ==\n",
        "- raciocíno lógico\n",
        "- não comentar código errado"
      ],
      "metadata": {
        "id": "dXEID3ChlVkp"
      }
    },
    {
      "cell_type": "code",
      "source": [
        "# Adição\n",
        "10 + 2"
      ],
      "metadata": {
        "colab": {
          "base_uri": "https://localhost:8080/"
        },
        "id": "Z4-ppK-ilUb3",
        "outputId": "8de8c771-2b62-45da-88a5-f8bfb80deb19"
      },
      "execution_count": null,
      "outputs": [
        {
          "output_type": "execute_result",
          "data": {
            "text/plain": [
              "False"
            ]
          },
          "metadata": {},
          "execution_count": 1
        }
      ]
    },
    {
      "cell_type": "code",
      "source": [
        "# Subtração\n",
        "10 - 2"
      ],
      "metadata": {
        "id": "yoX95xSNno8g"
      },
      "execution_count": null,
      "outputs": []
    },
    {
      "cell_type": "code",
      "source": [
        "# Multiplicação\n",
        "10 * 2"
      ],
      "metadata": {
        "id": "WAo4Wlywnu_L"
      },
      "execution_count": null,
      "outputs": []
    },
    {
      "cell_type": "code",
      "source": [
        "# Divisão\n",
        "10 / 2"
      ],
      "metadata": {
        "id": "DN7MxBKgnkht"
      },
      "execution_count": null,
      "outputs": []
    },
    {
      "cell_type": "code",
      "source": [
        "# Divisão inteira\n",
        "10 // 2"
      ],
      "metadata": {
        "id": "WJuC5bXbnzYT"
      },
      "execution_count": null,
      "outputs": []
    },
    {
      "cell_type": "code",
      "source": [
        "# Resto da divisão\n",
        "10 % 2"
      ],
      "metadata": {
        "id": "IgLIFpmWnz0p"
      },
      "execution_count": null,
      "outputs": []
    },
    {
      "cell_type": "code",
      "source": [
        "# Potenciação\n",
        "10 ** 2"
      ],
      "metadata": {
        "id": "PKpniTuxnz9s"
      },
      "execution_count": null,
      "outputs": []
    },
    {
      "cell_type": "code",
      "source": [
        "# Menor\n",
        "10 < 2"
      ],
      "metadata": {
        "id": "6wpLB7Amn6-f"
      },
      "execution_count": null,
      "outputs": []
    },
    {
      "cell_type": "code",
      "source": [
        "# Maior\n",
        "10 > 2"
      ],
      "metadata": {
        "id": "zwbaxc08n7Ex"
      },
      "execution_count": null,
      "outputs": []
    },
    {
      "cell_type": "code",
      "source": [
        "# Maior ou igual\n",
        "10 >= 2"
      ],
      "metadata": {
        "id": "Cv1Pb2DVn7MY"
      },
      "execution_count": null,
      "outputs": []
    },
    {
      "cell_type": "code",
      "source": [
        "# Menor ou igual\n",
        "10 <= 2"
      ],
      "metadata": {
        "id": "am13PSb4n7UX"
      },
      "execution_count": null,
      "outputs": []
    },
    {
      "cell_type": "code",
      "source": [
        "# Igual\n",
        "7 == 7"
      ],
      "metadata": {
        "id": "w3t6FPd4n7cb"
      },
      "execution_count": null,
      "outputs": []
    },
    {
      "cell_type": "code",
      "source": [
        "# Diferente\n",
        "7 != 7"
      ],
      "metadata": {
        "id": "hgMmPvyIoGyg"
      },
      "execution_count": null,
      "outputs": []
    },
    {
      "cell_type": "code",
      "source": [
        "# Operador Lógico 'And'\n",
        "print(10 > 2 and 4 < 6)   # V and V = V\n",
        "print(10 > 2 and 4 > 6)   # V and F = F\n",
        "print(10 < 2 and 4 < 6)   # F and V = F\n",
        "print(10 < 2 and 4 > 6)   # F and F = F"
      ],
      "metadata": {
        "id": "m8RW7N9loJrM"
      },
      "execution_count": null,
      "outputs": []
    },
    {
      "cell_type": "code",
      "source": [
        "# Operador Lógico 'Or'\n",
        "print(10 > 2 or 4 < 6)    # V or V = V\n",
        "print(10 > 2 or 4 > 6)    # V or F = V\n",
        "print(10 < 2 or 4 < 6)    # V or F = V\n",
        "print(10 < 2 or 4 > 6)    # F or F = F"
      ],
      "metadata": {
        "id": "3ooWXFYbotP4"
      },
      "execution_count": null,
      "outputs": []
    },
    {
      "cell_type": "code",
      "source": [
        "# Operador Lógico 'Not': inverte a resposta\n",
        "not 10 > 2    # V = F\n",
        "not 10 < 2    # F = V"
      ],
      "metadata": {
        "id": "mbOtSaDDpBiI"
      },
      "execution_count": null,
      "outputs": []
    },
    {
      "cell_type": "markdown",
      "source": [
        "- Váriaveis\n",
        "\n",
        "ficam alocadas em espaços na memória"
      ],
      "metadata": {
        "id": "CK2C8WMZse-E"
      }
    },
    {
      "cell_type": "code",
      "source": [
        "# Nome da váriavel é \"x\" que armazena o valor 10 em um espaço na memória\n",
        "x = 10\n",
        "print(x)"
      ],
      "metadata": {
        "id": "-4iigQnKspGe"
      },
      "execution_count": null,
      "outputs": []
    },
    {
      "cell_type": "markdown",
      "source": [
        "- Regras"
      ],
      "metadata": {
        "id": "pM_RRiodtCzt"
      }
    },
    {
      "cell_type": "markdown",
      "source": [
        "**Case Sensitive**\n",
        "\n",
        "A != a\n",
        "\n",
        "**Boas práticas com váriaveis**\n",
        "\n",
        "> Exemplo Multiplicação de 2 nºs\n",
        "\n",
        "Não usar\n",
        "* Multiplicação\n",
        "* MultiplicaçãoDeDoisNumeros\n",
        "* m\n",
        "\n",
        "Usar\n",
        "* multiplicacao\n",
        "* mult\n",
        "* mult_total (snake_case)"
      ],
      "metadata": {
        "id": "s6qvy8lrtLVo"
      }
    },
    {
      "cell_type": "markdown",
      "source": [
        "* Tipos de váriaveis\n",
        "\n",
        "> Int(Inteiro) num = 10\n",
        "\n",
        "> Float(Real) num = 10.5\n",
        "\n",
        "> String(Texto) nome = \"Rodrigo\""
      ],
      "metadata": {
        "id": "_gHB4NH8uYKM"
      }
    },
    {
      "cell_type": "markdown",
      "source": [
        "Visualização de Váriáveis e Textos"
      ],
      "metadata": {
        "id": "u2COH7Bky_t0"
      }
    },
    {
      "cell_type": "code",
      "source": [
        "print('Conhecendo o comando print')\n",
        "\n",
        "x = 8\n",
        "print(x)"
      ],
      "metadata": {
        "id": "lJ0BXkQZs948"
      },
      "execution_count": null,
      "outputs": []
    },
    {
      "cell_type": "code",
      "source": [
        "y = 10\n",
        "soma = x + y\n",
        "print(soma)"
      ],
      "metadata": {
        "id": "jvYUz6GdzL_I"
      },
      "execution_count": null,
      "outputs": []
    },
    {
      "cell_type": "code",
      "source": [
        "nome = 'Rodrigo Rebouças'\n",
        "print(nome)"
      ],
      "metadata": {
        "id": "7ye8jYUFzQbk"
      },
      "execution_count": null,
      "outputs": []
    },
    {
      "cell_type": "markdown",
      "source": [
        "Concatenação"
      ],
      "metadata": {
        "id": "mJzS209LzXQH"
      }
    },
    {
      "cell_type": "code",
      "source": [
        "x = 5\n",
        "print('O valor de x é: ', x)"
      ],
      "metadata": {
        "id": "tyH2LgvAzVr3"
      },
      "execution_count": null,
      "outputs": []
    },
    {
      "cell_type": "code",
      "source": [
        "print('O valor de x é: ', x, 'e o dobro é', x * 2)"
      ],
      "metadata": {
        "id": "Wo0z35Npzl8Y"
      },
      "execution_count": null,
      "outputs": []
    },
    {
      "cell_type": "code",
      "source": [
        "print('Eu,', nome, 'tirei', x, 'na prova de Python')"
      ],
      "metadata": {
        "id": "Q247sLE_ztdU"
      },
      "execution_count": null,
      "outputs": []
    },
    {
      "cell_type": "code",
      "source": [
        "x = 10; z = 20 + x - y\n",
        "\n",
        "print('Declarar váriaveis na mesma linha:', y, z)"
      ],
      "metadata": {
        "id": "7z-559HAztq9"
      },
      "execution_count": null,
      "outputs": []
    },
    {
      "cell_type": "markdown",
      "source": [
        "Type"
      ],
      "metadata": {
        "id": "asXiiPDp0cM9"
      }
    },
    {
      "cell_type": "code",
      "source": [
        "x = 10\n",
        "type(x)\n",
        "print('x', type(x))\n",
        "\n",
        "nome = 'Rodrigo'\n",
        "print('nome', type(nome))\n",
        "\n",
        "num = '100'\n",
        "num_convert = int(num) # convertendo o tipo de váriavel\n",
        "print('num', type(num))\n",
        "print('num_convert', type(num_convert))\n",
        "\n",
        "num_float = float(num)\n",
        "print('num_float', type(num_float))"
      ],
      "metadata": {
        "id": "Nfey3eYj0OI9"
      },
      "execution_count": null,
      "outputs": []
    },
    {
      "cell_type": "markdown",
      "source": [
        "Input\n",
        "- armazena a informação digitada pelo usuário em uma váriavel\n",
        "- o dado armazenado sempre será um texto"
      ],
      "metadata": {
        "id": "9JQnIgQM1Sls"
      }
    },
    {
      "cell_type": "code",
      "source": [
        "nome = input('Qual o seu nome? ')\n",
        "print(nome)"
      ],
      "metadata": {
        "id": "wXyKHZzw1P28"
      },
      "execution_count": null,
      "outputs": []
    },
    {
      "cell_type": "code",
      "source": [
        "nota = input('Digite a nota: ')\n",
        "print(nome, 'a nota foi', nota)"
      ],
      "metadata": {
        "id": "UoeghJkm1jVw"
      },
      "execution_count": null,
      "outputs": []
    },
    {
      "cell_type": "code",
      "source": [
        "valor = input('Digite o valor do produto: ')\n",
        "print(valor)"
      ],
      "metadata": {
        "colab": {
          "base_uri": "https://localhost:8080/"
        },
        "id": "P6S4R2-Z1xRb",
        "outputId": "17eaff0e-162d-4efd-dd32-1c4b6cd39b44"
      },
      "execution_count": null,
      "outputs": [
        {
          "output_type": "stream",
          "name": "stdout",
          "text": [
            "Digite o valor do produto: 100\n",
            "100\n"
          ]
        }
      ]
    },
    {
      "cell_type": "code",
      "source": [
        "desconto = valor - 5"
      ],
      "metadata": {
        "id": "elaGQm481565"
      },
      "execution_count": null,
      "outputs": []
    },
    {
      "cell_type": "code",
      "source": [
        "valor_convert = int(valor)\n",
        "desconto = valor_convert - 5\n",
        "print(desconto)"
      ],
      "metadata": {
        "id": "aUozRNRZ1_Ff"
      },
      "execution_count": null,
      "outputs": []
    },
    {
      "cell_type": "code",
      "source": [
        "desconto = int(valor) - 5\n",
        "print(desconto)"
      ],
      "metadata": {
        "colab": {
          "base_uri": "https://localhost:8080/"
        },
        "id": "7yXQZ68n2JGU",
        "outputId": "61f0aad0-026c-4a25-a527-5eaf3077658d"
      },
      "execution_count": null,
      "outputs": [
        {
          "output_type": "stream",
          "name": "stdout",
          "text": [
            "95\n"
          ]
        }
      ]
    },
    {
      "cell_type": "markdown",
      "source": [
        "Condicional"
      ],
      "metadata": {
        "id": "ssbKJx-J55ek"
      }
    },
    {
      "cell_type": "code",
      "source": [
        "# If\n",
        "if 5 < 10:\n",
        "    print('Verdadeiro')"
      ],
      "metadata": {
        "colab": {
          "base_uri": "https://localhost:8080/"
        },
        "id": "L5hAd79-50AV",
        "outputId": "a88dc681-b448-4f02-b4c7-476669de5e95"
      },
      "execution_count": null,
      "outputs": [
        {
          "output_type": "stream",
          "name": "stdout",
          "text": [
            "Verdadeiro\n"
          ]
        }
      ]
    },
    {
      "cell_type": "code",
      "source": [
        "# IF/ else\n",
        "num1 = 10\n",
        "num2 = 5\n",
        "if num1 > num2:\n",
        "    print('O num2 é o maior número')\n",
        "else:\n",
        "    print('O num2 é o maior número')\n"
      ],
      "metadata": {
        "id": "wLSciaZO5__T"
      },
      "execution_count": null,
      "outputs": []
    },
    {
      "cell_type": "code",
      "source": [
        "# If/ elif/ else\n",
        "num1 = 10\n",
        "num2 = 10\n",
        "if num1 > num2:\n",
        "    print('O num1 é o maior número')\n",
        "elif num1 < num2:\n",
        "    print('O num2 é o maior número')\n",
        "else:\n",
        "  print('Os números são iguais')"
      ],
      "metadata": {
        "colab": {
          "base_uri": "https://localhost:8080/"
        },
        "id": "z1taHPNt6auV",
        "outputId": "7bfb4d8e-ae83-4413-9a5a-758b79ee9f40"
      },
      "execution_count": null,
      "outputs": [
        {
          "output_type": "stream",
          "name": "stdout",
          "text": [
            "Os números são iguais\n"
          ]
        }
      ]
    },
    {
      "cell_type": "markdown",
      "source": [
        "Condicional com operadores Lógicos"
      ],
      "metadata": {
        "id": "5SaaAtRI6wrT"
      }
    },
    {
      "cell_type": "code",
      "source": [
        "num1 = 10\n",
        "num2 = 5\n",
        "num3 = 2\n",
        "if (num1 > num2) and (num1 > num3):\n",
        "    print('O num1 é o maior número')\n",
        "elif (num2 > num1) and (num2 > num3):\n",
        "    print('O num2 é o maior número')\n",
        "else:\n",
        "    print('O num3 é o maior número')"
      ],
      "metadata": {
        "id": "6jCdkN5Q6v5i"
      },
      "execution_count": null,
      "outputs": []
    },
    {
      "cell_type": "markdown",
      "source": [
        "Lista, tuplas e dicionários"
      ],
      "metadata": {
        "id": "vp0cQDj7kuvR"
      }
    },
    {
      "cell_type": "code",
      "source": [
        "# Lista\n",
        "[1,2,3,4,5]"
      ],
      "metadata": {
        "id": "U3d_ZUEok1C2"
      },
      "execution_count": null,
      "outputs": []
    },
    {
      "cell_type": "code",
      "source": [
        "# Tupla\n",
        "(1,2,3,4,5)"
      ],
      "metadata": {
        "id": "64gK3rsVk8dg"
      },
      "execution_count": null,
      "outputs": []
    },
    {
      "cell_type": "code",
      "source": [
        "# Dicionário\n",
        "{'num1': 1, 'num2': 2}"
      ],
      "metadata": {
        "id": "9CqSsLHFlAdI"
      },
      "execution_count": null,
      "outputs": []
    },
    {
      "cell_type": "markdown",
      "source": [
        "Lista"
      ],
      "metadata": {
        "id": "Hk5RilD0lUHj"
      }
    },
    {
      "cell_type": "code",
      "source": [
        "lista = [5, 'Rodrigo', 8.9]"
      ],
      "metadata": {
        "id": "Dnrt7r-vlU2k"
      },
      "execution_count": null,
      "outputs": []
    },
    {
      "cell_type": "code",
      "source": [
        "type(lista)"
      ],
      "metadata": {
        "colab": {
          "base_uri": "https://localhost:8080/"
        },
        "id": "JsIKAxIHlauv",
        "outputId": "7793b351-76b4-47f9-f061-f2ee72ac3c5d"
      },
      "execution_count": null,
      "outputs": [
        {
          "output_type": "execute_result",
          "data": {
            "text/plain": [
              "list"
            ]
          },
          "metadata": {},
          "execution_count": 3
        }
      ]
    },
    {
      "cell_type": "code",
      "source": [
        "lista.append('Augusto') # Adicionar um elemento na lista"
      ],
      "metadata": {
        "id": "f-kOJ6PbldNV"
      },
      "execution_count": null,
      "outputs": []
    },
    {
      "cell_type": "code",
      "source": [
        "print(lista)\n",
        "print(lista[1])"
      ],
      "metadata": {
        "colab": {
          "base_uri": "https://localhost:8080/"
        },
        "id": "vcRPOPWHll38",
        "outputId": "7c46fce9-5cc3-4d06-cb6e-4b903204d68a"
      },
      "execution_count": null,
      "outputs": [
        {
          "output_type": "stream",
          "name": "stdout",
          "text": [
            "[5, 'Rodrigo', 8.9, 'Augusto']\n",
            "Rodrigo\n"
          ]
        }
      ]
    },
    {
      "cell_type": "markdown",
      "source": [
        "Tupla"
      ],
      "metadata": {
        "id": "ltwbpJXylpla"
      }
    },
    {
      "cell_type": "code",
      "source": [
        "tupla = (5, 'Rodrigo', 8.9)"
      ],
      "metadata": {
        "id": "hF_6aXDIlwLg"
      },
      "execution_count": null,
      "outputs": []
    },
    {
      "cell_type": "code",
      "source": [
        "type(tupla)"
      ],
      "metadata": {
        "colab": {
          "base_uri": "https://localhost:8080/"
        },
        "id": "Pqpv3KS1lsLl",
        "outputId": "0ccd7ad7-877b-4f9c-dbb1-659673ea2d8b"
      },
      "execution_count": null,
      "outputs": [
        {
          "output_type": "execute_result",
          "data": {
            "text/plain": [
              "tuple"
            ]
          },
          "metadata": {},
          "execution_count": 7
        }
      ]
    },
    {
      "cell_type": "code",
      "source": [
        "tupla.append('Augusto') # Não é possível adicionar um elemento na tupla"
      ],
      "metadata": {
        "id": "IWOX4XcBmLyz"
      },
      "execution_count": null,
      "outputs": []
    },
    {
      "cell_type": "code",
      "source": [
        "print(tupla)"
      ],
      "metadata": {
        "colab": {
          "base_uri": "https://localhost:8080/"
        },
        "id": "tGt-U6fzmSPS",
        "outputId": "7a7def6d-9306-4541-aa0f-f999a4b061f2"
      },
      "execution_count": null,
      "outputs": [
        {
          "output_type": "stream",
          "name": "stdout",
          "text": [
            "(5, 'Rodrigo', 8.9)\n"
          ]
        }
      ]
    },
    {
      "cell_type": "markdown",
      "source": [
        "Dicionário"
      ],
      "metadata": {
        "id": "4JN6Lo8SmVvZ"
      }
    },
    {
      "cell_type": "code",
      "source": [
        "dicionario = {'nome':'Rodrigo', 'cidade': 'São José dos Campos'}"
      ],
      "metadata": {
        "id": "m5nhhYODmXF_"
      },
      "execution_count": null,
      "outputs": []
    },
    {
      "cell_type": "code",
      "source": [
        "type(dicionario)"
      ],
      "metadata": {
        "colab": {
          "base_uri": "https://localhost:8080/"
        },
        "id": "qAcUPJdNms-I",
        "outputId": "7a9657ab-1d13-474a-ed8d-6ef13f5f8ad1"
      },
      "execution_count": null,
      "outputs": [
        {
          "output_type": "execute_result",
          "data": {
            "text/plain": [
              "dict"
            ]
          },
          "metadata": {},
          "execution_count": 11
        }
      ]
    },
    {
      "cell_type": "code",
      "source": [
        "print(dicionario)"
      ],
      "metadata": {
        "colab": {
          "base_uri": "https://localhost:8080/"
        },
        "id": "PyUZgafkmvWu",
        "outputId": "05cd1edb-3976-479f-fc1f-3ddf947fdaac"
      },
      "execution_count": null,
      "outputs": [
        {
          "output_type": "stream",
          "name": "stdout",
          "text": [
            "{'nome': 'Rodrigo', 'cidade': 'São José dos Campos'}\n"
          ]
        }
      ]
    },
    {
      "cell_type": "code",
      "source": [
        "print(dicionario['nome'])"
      ],
      "metadata": {
        "colab": {
          "base_uri": "https://localhost:8080/"
        },
        "id": "zy6mgCramyHl",
        "outputId": "cafddde5-0630-427c-8338-1e62ecccfbb6"
      },
      "execution_count": null,
      "outputs": [
        {
          "output_type": "stream",
          "name": "stdout",
          "text": [
            "Rodrigo\n"
          ]
        }
      ]
    },
    {
      "cell_type": "code",
      "source": [
        "dicionario['ultimo_nome'] = 'Rebouças'"
      ],
      "metadata": {
        "id": "4jU9cMjym4Ni"
      },
      "execution_count": null,
      "outputs": []
    },
    {
      "cell_type": "code",
      "source": [
        "print(dicionario)"
      ],
      "metadata": {
        "colab": {
          "base_uri": "https://localhost:8080/"
        },
        "id": "HsIBCK37m-2_",
        "outputId": "a2c232d4-c2cb-4f9f-e87f-0bce71473db0"
      },
      "execution_count": null,
      "outputs": [
        {
          "output_type": "stream",
          "name": "stdout",
          "text": [
            "{'nome': 'Rodrigo', 'cidade': 'São José dos Campos', 'ultimo_nome': 'Rebouças'}\n"
          ]
        }
      ]
    },
    {
      "cell_type": "markdown",
      "source": [
        "Laço de repetição 'FOR'"
      ],
      "metadata": {
        "id": "CXE0uaRQa7rQ"
      }
    },
    {
      "cell_type": "code",
      "source": [
        "for contador in range(19):\n",
        "    print(contador)"
      ],
      "metadata": {
        "colab": {
          "base_uri": "https://localhost:8080/"
        },
        "id": "y5BqLRq7aFtp",
        "outputId": "d75bce9b-a1c9-444a-9662-9ad982b9939c"
      },
      "execution_count": null,
      "outputs": [
        {
          "output_type": "stream",
          "name": "stdout",
          "text": [
            "0\n",
            "1\n",
            "2\n",
            "3\n",
            "4\n"
          ]
        }
      ]
    },
    {
      "cell_type": "code",
      "source": [
        "# For Range + Break\n",
        "for contador in range(1000):\n",
        "  print(contador)\n",
        "  if contador == 2:\n",
        "    break"
      ],
      "metadata": {
        "id": "yJfR9MsmbK6u"
      },
      "execution_count": null,
      "outputs": []
    },
    {
      "cell_type": "code",
      "source": [
        "lista = ['Teste1', 'Teste2']"
      ],
      "metadata": {
        "id": "LKplavPfbcGb"
      },
      "execution_count": null,
      "outputs": []
    },
    {
      "cell_type": "code",
      "source": [
        "# For simples\n",
        "for val in lista:\n",
        "  print(val)"
      ],
      "metadata": {
        "colab": {
          "base_uri": "https://localhost:8080/"
        },
        "id": "R0z9c-2pbd8Q",
        "outputId": "38f16827-b731-4df6-c2ba-42e941c2db3a"
      },
      "execution_count": null,
      "outputs": [
        {
          "output_type": "stream",
          "name": "stdout",
          "text": [
            "Teste1\n",
            "Teste2\n"
          ]
        }
      ]
    },
    {
      "cell_type": "code",
      "source": [
        "# For com enumerate\n",
        "for i, val in enumerate(lista):\n",
        "  print(i+1, val)"
      ],
      "metadata": {
        "colab": {
          "base_uri": "https://localhost:8080/"
        },
        "id": "whHhQS59b23c",
        "outputId": "562ec8d6-3202-4940-b961-42bf4a9b6071"
      },
      "execution_count": null,
      "outputs": [
        {
          "output_type": "stream",
          "name": "stdout",
          "text": [
            "1 Teste1\n",
            "2 Teste2\n"
          ]
        }
      ]
    },
    {
      "cell_type": "markdown",
      "source": [
        "For com operadores compostos"
      ],
      "metadata": {
        "id": "7jD73mk7a7VR"
      }
    },
    {
      "cell_type": "code",
      "source": [
        "lista2 = [2, 3, 4]"
      ],
      "metadata": {
        "id": "Vs6hmZfZcIVB"
      },
      "execution_count": null,
      "outputs": []
    },
    {
      "cell_type": "code",
      "source": [
        "for val in lista2:\n",
        "  val += 1\n",
        "  print(val)"
      ],
      "metadata": {
        "colab": {
          "base_uri": "https://localhost:8080/"
        },
        "id": "a9wu2s6ncrjM",
        "outputId": "3c4e6d6e-ec74-434f-f0a3-e99f284b0eb8"
      },
      "execution_count": null,
      "outputs": [
        {
          "output_type": "stream",
          "name": "stdout",
          "text": [
            "3\n",
            "4\n",
            "5\n"
          ]
        }
      ]
    },
    {
      "cell_type": "code",
      "source": [
        "for val in lista2:\n",
        "  val *= 2\n",
        "  print(val)"
      ],
      "metadata": {
        "colab": {
          "base_uri": "https://localhost:8080/"
        },
        "id": "kB76er7fdEax",
        "outputId": "f339b18e-f007-4371-c749-25abbb7c3c87"
      },
      "execution_count": null,
      "outputs": [
        {
          "output_type": "stream",
          "name": "stdout",
          "text": [
            "4\n",
            "6\n",
            "8\n"
          ]
        }
      ]
    },
    {
      "cell_type": "markdown",
      "source": [
        "Laço de repetição 'While'"
      ],
      "metadata": {
        "id": "hD6LPs6fdMmR"
      }
    },
    {
      "cell_type": "code",
      "source": [
        "val = 1\n",
        "while val < 6:\n",
        "    val *= 2\n",
        "    print(val)"
      ],
      "metadata": {
        "colab": {
          "base_uri": "https://localhost:8080/"
        },
        "id": "Wit9poMUdLcW",
        "outputId": "b47c90e6-25c1-4a3d-b559-4d839f3c53f1"
      },
      "execution_count": null,
      "outputs": [
        {
          "output_type": "stream",
          "name": "stdout",
          "text": [
            "2\n",
            "4\n",
            "8\n"
          ]
        }
      ]
    },
    {
      "cell_type": "code",
      "source": [
        "# While com else\n",
        "val = 5\n",
        "while val < 6:\n",
        "    val *= 2\n",
        "else:\n",
        "    print('Valor final de val é: ', val)"
      ],
      "metadata": {
        "colab": {
          "base_uri": "https://localhost:8080/"
        },
        "id": "NvgMPNEidwZs",
        "outputId": "5cd8a693-bed6-4043-ef01-85fae44b9d6f"
      },
      "execution_count": null,
      "outputs": [
        {
          "output_type": "stream",
          "name": "stdout",
          "text": [
            "Valor final de val é:  10\n"
          ]
        }
      ]
    },
    {
      "cell_type": "code",
      "source": [
        "feedbacks = ['muito bom', 'bom', 'ruim']\n",
        "\n",
        "cliente = {\n",
        "    'nome': 'Rodrigo',\n",
        "    'idade': 30,\n",
        "    'feedback': \"muito satisfeito\"\n",
        "}\n",
        "\n",
        "print('Feedbacks dos clientes: \\n')\n",
        "for feedback in feedbacks:\n",
        "    print('-' + feedback)\n",
        "\n",
        "print('-'*10)\n",
        "\n",
        "print('Informações do cliente:')\n",
        "print('\\nNome:', cliente['nome']) # '\\n' quebra uma linha\n",
        "print('Idade:', cliente['idade'])\n",
        "print('Feedbacks:', cliente['feedback'])"
      ],
      "metadata": {
        "colab": {
          "base_uri": "https://localhost:8080/"
        },
        "collapsed": true,
        "id": "RTWf-1K0f2_n",
        "outputId": "286770cd-5f89-4fde-946f-d1241cdd1cb6"
      },
      "execution_count": null,
      "outputs": [
        {
          "output_type": "stream",
          "name": "stdout",
          "text": [
            "Feedbacks dos clientes: \n",
            "\n",
            "-muito bom\n",
            "-bom\n",
            "-ruim\n",
            "----------\n",
            "Informações do cliente:\n",
            "\n",
            "Nome: Rodrigo\n",
            "Idade: 30\n",
            "Feedbacks: muito satisfeito\n"
          ]
        }
      ]
    },
    {
      "cell_type": "code",
      "source": [
        "notas = [85, 92, 78, 90, 88]\n",
        "\n",
        "soma = 0\n",
        "for nota in notas:\n",
        "    soma += nota\n",
        "media = soma / len(notas)\n",
        "\n",
        "alunos_aprovados = []\n",
        "alunos_reprovados = []\n",
        "\n",
        "for nota in notas:\n",
        "    if nota >= media:\n",
        "        alunos_aprovados.append(nota)\n",
        "    else:\n",
        "        alunos_reprovados.append(nota)\n",
        "\n",
        "print('Notas dos alunos', notas)\n",
        "print('Média das notas:', media)\n",
        "print('Alunos aprovados:', alunos_aprovados)\n",
        "print('Alunos reprovados:', alunos_reprovados)"
      ],
      "metadata": {
        "colab": {
          "base_uri": "https://localhost:8080/"
        },
        "id": "LgKUj4TOkmQG",
        "outputId": "98c00848-527c-4e35-9be6-5eeb0cee6466"
      },
      "execution_count": null,
      "outputs": [
        {
          "output_type": "stream",
          "name": "stdout",
          "text": [
            "Notas dos alunos [85, 92, 78, 90, 88]\n",
            "Média das notas: 86.6\n",
            "Alunos aprovados: [92, 90, 88]\n",
            "Alunos reprovados: [85, 78]\n"
          ]
        }
      ]
    },
    {
      "cell_type": "markdown",
      "source": [
        "CONCATENATION:\n",
        "- O processo de unir duas ou mais strings em uma única string. Em Python, isso é feito usando o operador `+`.\n",
        "\n",
        "MARKDOWN:\n",
        "- Uma linguagem de marcação leve usada para formatar texto em notebooks do Google Colab. Permite adicionar cabeçalhos, listas, links, imagens e outros elementos de formatação.\n",
        "\n",
        "NOTEBOOK:\n",
        "- Um documento interativo que pode conter código executável, visualizações, texto formatado e outros elementos. No Google Colab, notebooks são usados para escrever e executar código Python.\n",
        "\n",
        "TYPE CONVERSION:\n",
        "- O processo de converter um valor de um tipo de dado para outro, como de string para inteiro ou de float para string. Em Python, isso pode ser feito usando funções como `int()`, `float()`, e `str()`."
      ],
      "metadata": {
        "id": "oxeDjfVZl_WN"
      }
    },
    {
      "cell_type": "code",
      "source": [
        "# Solicita o nome do usuário e o exibe\n",
        "nome_usuario = input('Por favor, insira seu nome: ')\n",
        "print(f'Olá, {nome_usuario}! Bem-vindo ao nosso sistema.')\n",
        "\n",
        "# Solicita a idade do usuário e converte para inteiro\n",
        "idade_usuario = int(input('Por favor, insira sua idade: '))\n",
        "\n",
        "# Verifica se o usuário é maior de idade\n",
        "if idade_usuario >= 18:\n",
        "    print('Você é maior de idade.')\n",
        "else:\n",
        "    print('Você é menor de idade.')\n"
      ],
      "metadata": {
        "colab": {
          "base_uri": "https://localhost:8080/"
        },
        "id": "y5S2xIzImlzM",
        "outputId": "cb2984cf-b25f-49ec-e781-b4221addf26f"
      },
      "execution_count": null,
      "outputs": [
        {
          "output_type": "stream",
          "name": "stdout",
          "text": [
            "Por favor, insira seu nome: matheo\n",
            "Olá, matheo! Bem-vindo ao nosso sistema.\n",
            "Por favor, insira sua idade: 24\n",
            "Você é maior de idade.\n"
          ]
        }
      ]
    },
    {
      "cell_type": "code",
      "source": [
        "# Exemplo de uso de listas e dicionários em Python\n",
        "\n",
        "# Lista de registros de vendas\n",
        "vendas = [\n",
        "    {\"produto\": \"A\", \"quantidade\": 10, \"preco\": 5.0},\n",
        "    {\"produto\": \"B\", \"quantidade\": 5, \"preco\": 7.5},\n",
        "    {\"produto\": \"C\", \"quantidade\": 8, \"preco\": 3.0}\n",
        "]\n",
        "\n",
        "# Dicionário para mapear IDs de produtos para detalhes\n",
        "produtos = {\n",
        "    \"A\": {\"nome\": \"Produto A\", \"categoria\": \"Categoria 1\"},\n",
        "    \"B\": {\"nome\": \"Produto B\", \"categoria\": \"Categoria 2\"},\n",
        "    \"C\": {\"nome\": \"Produto C\", \"categoria\": \"Categoria 1\"}\n",
        "}\n",
        "\n",
        "# Calcular receita total\n",
        "receita_total = 0\n",
        "for venda in vendas:\n",
        "    receita_total += venda[\"quantidade\"] * venda[\"preco\"]\n",
        "\n",
        "print(f\"Receita Total: {receita_total}\")\n",
        "\n",
        "# Exibir detalhes dos produtos vendidos\n",
        "for venda in vendas:\n",
        "    produto_id = venda[\"produto\"]\n",
        "    detalhes = produtos[produto_id]\n",
        "    print(f\"Produto: {detalhes['nome']}, Categoria: {detalhes['categoria']}, Quantidade Vendida: {venda['quantidade']}\")"
      ],
      "metadata": {
        "id": "oDyX3q23nRo_",
        "colab": {
          "base_uri": "https://localhost:8080/"
        },
        "outputId": "2fbabef4-4d1f-4565-fa33-b6bb18c36e23"
      },
      "execution_count": null,
      "outputs": [
        {
          "output_type": "stream",
          "name": "stdout",
          "text": [
            "Receita Total: 111.5\n",
            "Produto: Produto A, Categoria: Categoria 1, Quantidade Vendida: 10\n",
            "Produto: Produto B, Categoria: Categoria 2, Quantidade Vendida: 5\n",
            "Produto: Produto C, Categoria: Categoria 1, Quantidade Vendida: 8\n"
          ]
        }
      ]
    }
  ]
}